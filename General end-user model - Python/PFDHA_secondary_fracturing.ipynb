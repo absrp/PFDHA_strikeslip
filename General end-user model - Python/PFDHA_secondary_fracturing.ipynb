{
 "cells": [
  {
   "cell_type": "markdown",
   "metadata": {},
   "source": [
    "This Notebook estimates the probability of observing a fracture that accommodates a displacement that exceeds a given threshold at a given distance away from a fault during an earthquake. In this probabilistic fault displacement hazard analysis (PFDHA) model, the user can specify $D_{o}$ and obtain the hazard curve $P(D>D_{o})$. This model is best applied to estimating secondary displacements for strike-slip earthquakes with expected widespread fracturing across immature fault zones  \n",
    "\n",
    "This work is developed in: \n",
    "Rodriguez Padilla, A. M., & Oskin, M. E. (NNNN). A probabilistic displacement hazard assessment framework for coseismic distributed fracturing from strike-slip earthquakes."
   ]
  },
  {
   "cell_type": "markdown",
   "metadata": {},
   "source": [
    "First, we briefly introduce the derivation of $P(D>D_o)$. Additional details are given in Rodriguez Padilla and Oskin (202X). \n",
    "\n",
    "Determining the probability of finding a fracture at a distance away from the fault that will have a displacement greater than a threshold requires knowledge of the spatial distribution of fractures and the displacements that these fractures could accommodate. We address the former through analysis of the decay of fracture density with fault-perpendicular distance and the latter by examining the scaling of maximum displacement with fracture length using data from events in southern California.\n",
    "\n",
    "The coseismic displacements accommodated by a fracture population distributed within the damage zone of a fault may be described by a power-law of the form: \n",
    "\\begin{equation}\n",
    "f(D) =\\alpha D^{-n}\\tag{1}\n",
    "\\end{equation}\n",
    "\n",
    "where D is the fracture displacement, n is the slope of the line in log-log space and $\\alpha$ is the intercept. Assuming that f(D) is a probability density function ($\\int_{D_{min}}^{D_{max}} f(D) = 1$), we integrate f(D) from $D_{min}$ to $D_{max}$, where $D_{min}$ is fixed at $10^{-3}$, associated with a 1 meter long fracture, and $D_{max}$ = $\\infty$. This yields the probability that a mapped fracture accommodates a displacement D:\n",
    "\n",
    "\\begin{equation}\n",
    "P(D) = \\int_{D_{min}}^{D_{max}} \\alpha D^{-n} dD = \\frac{1}{1-n}\\alpha D^{1-n} \\quad _{D_{min}|^{D_{max}}}\\tag{2}\n",
    "\\end{equation}\n",
    "\n",
    "Through integration of equation 2 and some algebra (see complete derivation in manuscript), we can solve for $\\alpha$:\n",
    "\n",
    "\\begin{equation}\n",
    "\\alpha = \\frac{1-n}{-D_{min}^{1-n}}\\tag{3}\n",
    "\\end{equation}\n",
    "\n",
    "Different materials and infrastructure will yield in response to different displacement magnitudes. Thus, we are interested in the probability that the displacement on a mapped fracture exceeds that threshold. In our model, this threshold ($D_{o}$) may be adjusted for different engineering applications. $P(D>D_o)$ is given by integrating P(D) from $D_{min}$ to $D_{max}$. Completing the integral yields the probability that D>Do given the observation of a fracture:\n",
    "\n",
    "\\begin{equation}\n",
    "P(D>D_{o}|fracture) = (\\frac{D_{o}}{D_{min}})^{1-n}\\tag{4}\n",
    "\\end{equation}\n",
    "\n",
    "The spatial distribution of fractures is given by the decay of fracture density with fault-perpendicular distance:\n",
    "\n",
    "\\begin{equation}\n",
    "\\nu(x) = \\nu_{o}(\\frac{d^{m}}{|x|^{m}+d^{m}})^{\\frac{\\gamma}{m}}\\tag{5}\n",
    "\\end{equation}\n",
    "\n",
    "Where $\\nu_{o}$ is the fracture density at the origin, d a break in scaling close to the origin, m defines the sharpness of the break in scaling d, and $\\gamma$ is the slope of the decay beyond corner d. We keep m = 2  following the choice of Powers and Jordan (2010). The decay of fracture density with fault-perpendicular distance given by equation 5, normalized by area, gives the probability that a fracture is mapped at a given distance from the fault. \n",
    "\n",
    "If we assume that the fracture lengths are not spatially correlated, combining the probabilities in equations 4 and 5 yields our model P(D>Do):\n",
    "\\begin{equation}\n",
    "P(D>D_{o}) = (\\frac{D_{o}}{D_{min}})^{1-n}(\\frac{d^{m}}{|x|^{m}+d^{m}})^{\\frac{\\gamma}{m}}\\tag{6}\n",
    "\\end{equation}"
   ]
  },
  {
   "cell_type": "markdown",
   "metadata": {},
   "source": [
    "In the next code cell, we define a general model based on combined data from the Landers, Hector Mine, and Ridgecrest earthquakes. The details of this model are provided in Rodriguez Padilla and Oskin (20NN). Advanced users may instead choose to run this model for an event of their choice, which they can do following the approach in https://github.com/absrp/PFDHA_strike_slip_distributed"
   ]
  },
  {
   "cell_type": "code",
   "execution_count": 1,
   "metadata": {},
   "outputs": [],
   "source": [
    "# First, import required Python packages\n",
    "import numpy as np\n",
    "import matplotlib.pyplot as plt\n",
    "import pandas as pd\n",
    "import random"
   ]
  },
  {
   "cell_type": "code",
   "execution_count": 2,
   "metadata": {},
   "outputs": [],
   "source": [
    "# for the detailed derivation of each of these parameters, refer to https://github.com/absrp/PFDHA_strike_slip_distributed\n",
    "\n",
    "# request user-input value for Do (dynamic prompt)\n",
    "Do = float(input(\"Insert Your Preferred Value for Do in meters:\"))\n",
    "\n",
    "# parameters derived from the fracture lenght population from the Ridgecrest high-res aerial imagery (Rodriguez Padilla et al., 2022a)\n",
    "n = 1.71 # power-law exponent of fracture length distribution\n",
    "sigma = 0.06 # standard error of the mean (n)\n",
    "\n",
    "# parameters fixed\n",
    "Dmin = 10**-3 # equivalent to a 1 meter long fracture\n",
    "x = np.logspace(np.log10(1),np.log10(20000),50) # 1 m to 20 km distance from the fault\n",
    "\n",
    "# parameters derived from the fracture density decay with fault-perpendicular distance from the combined Landers, Hector Mine, and Ridgecrest model\n",
    "best_fit_parameters = pd.read_csv('general_FDHI_best_fit_parameters.txt', header = None)\n",
    "\n",
    "vo_bestfit = best_fit_parameters[0]\n",
    "d_bestfit = best_fit_parameters[1]\n",
    "gamma_bestfit = best_fit_parameters[2]"
   ]
  },
  {
   "cell_type": "code",
   "execution_count": 3,
   "metadata": {},
   "outputs": [],
   "source": [
    "# set of functions for model \n",
    "\n",
    "# estimate the fracture density decay with fault-perpendicular distance\n",
    "def calc_vx(x,vo,d,gamma):\n",
    "    m = 2 # Powers and Jordan, 2010\n",
    "    d = float(d)\n",
    "    vo = float(vo)\n",
    "    gamma= float(gamma)\n",
    "    return (vo * (d**m/(x**m+d**m))**(gamma/m))\n",
    "\n",
    "# estimate the probability of a fracture hosting a displacement larger than Do given the observation of a fracture\n",
    "def calc_DDo_f(Dmin,Do,n):\n",
    "    return ((Do**(1-n))/(Dmin**(1-n)))\n",
    "\n",
    "# combine the probabilities above to estimate the probability of finding a fracture that accommodates a displacement > Do\n",
    "# at a given distance away from the fault\n",
    "def calc_DDo(DDo_f,vx):\n",
    "    return DDo_f*vx # note vx has been normalized by meters square to be a probability\n"
   ]
  },
  {
   "cell_type": "code",
   "execution_count": 4,
   "metadata": {},
   "outputs": [],
   "source": [
    "# for the best fit model:\n",
    "# calculate vx\n",
    "vx_bestfit= calc_vx(x,vo_bestfit,d_bestfit,gamma_bestfit)\n",
    "# calculate D>Do|fr\n",
    "DDo_f_bestfit = calc_DDo_f(Dmin,Do,n)\n",
    "# calculate P(D>Do)\n",
    "P_D_Do_bestfit = calc_DDo(DDo_f_bestfit,vx_bestfit)"
   ]
  },
  {
   "cell_type": "code",
   "execution_count": 5,
   "metadata": {},
   "outputs": [],
   "source": [
    "# load Markov chain outputs from MCMC fit to density decay to fracture population \n",
    "# (each set of three columns represents the values of vo, d, and gamma for one \n",
    "# walker in the ensemble, for a total of 200 walkers)\n",
    "\n",
    "np.random.seed(0) # for reproducibility\n",
    "\n",
    "Markov_chain = pd.read_csv('onewalker_Markovchain.txt',sep=',',header=None).values\n",
    "\n",
    "n_draws = 5000\n",
    "\n",
    "# randomly draw n_draws samples from Markov chain for parameters vo, d, and gamma\n",
    "selected_index = random.sample(range(0,len(Markov_chain)), n_draws)\n",
    "selection = Markov_chain[selected_index,:]\n",
    "\n",
    "vo_ensemble = selection[:,0] \n",
    "d_ensemble = selection[:,1]\n",
    "gamma_ensemble = selection[:,2]\n",
    "\n",
    "# randomly draw n_draws samples from a normal distribution of mean n and standard deviation sigma\n",
    "n_distribution = np.random.normal(n, sigma, n_draws)"
   ]
  },
  {
   "cell_type": "code",
   "execution_count": 11,
   "metadata": {},
   "outputs": [
    {
     "data": {
      "image/png": "[encoded data removed]",
      "text/plain": [
       "<Figure size 350x400 with 2 Axes>"
      ]
     },
     "metadata": {
      "needs_background": "light"
     },
     "output_type": "display_data"
    }
   ],
   "source": [
    "# plot best-fit P(D>Do) model and range of plausible models given uncertainty (showing 95% confidence intervals)\n",
    "\n",
    "fig, AX = plt.subplots(2,1,dpi=100,figsize=(3.5,4),sharex=True)\n",
    "\n",
    "line_spec = {\n",
    "    \"alpha\":0.5,\n",
    "    \"color\":\"slategrey\",\n",
    "    \"label\":\"95$\\%$ C.I.\"\n",
    "}\n",
    "\n",
    "# arrays for calculating confidence intervals \n",
    "PD_Do = []\n",
    "residuals = []\n",
    "\n",
    "for i_vo,i_d,i_gamma,i_n in zip(vo_ensemble,d_ensemble,gamma_ensemble,n_distribution):\n",
    "    vx_decay = calc_vx(x,i_vo,i_d,i_gamma)\n",
    "    PD = calc_DDo_f(Dmin,Do,i_n)\n",
    "    i_PD_Do = vx_decay * PD\n",
    "    PD_Do.append(i_PD_Do)\n",
    "    residuals.append(np.log10(i_PD_Do) - np.log10(P_D_Do_bestfit))\n",
    "\n",
    "PD_Do = np.array(PD_Do)\n",
    "residuals = np.array(residuals)\n",
    "assert PD_Do.shape == residuals.shape\n",
    "\n",
    "sigma_25_PD_Do = np.percentile(PD_Do,2.5,axis=0)\n",
    "sigma_975_PD_Do = np.percentile(PD_Do,97.5,axis=0)\n",
    "sigma_25_res = np.percentile(residuals,2.5,axis=0)\n",
    "sigma_975_res = np.percentile(residuals,97.5,axis=0)\n",
    "\n",
    "AX[0].fill_between(x,sigma_975_PD_Do,sigma_25_PD_Do, **line_spec)\n",
    "AX[1].fill_between(x,sigma_25_res, sigma_975_res, **line_spec)\n",
    "\n",
    "AX[0].set_yscale('log')\n",
    "AX[0].set_xscale('log')\n",
    "AX[0].set_ylabel('$P(D>D_{o})$')\n",
    "\n",
    "AX[0].plot(x,P_D_Do_bestfit,c='slategrey',label='$D_{o} = %.1f$ m' %(Do))\n",
    "AX[0].legend()\n",
    "AX[1].plot(x,np.log10(P_D_Do_bestfit)-np.log10(P_D_Do_bestfit), color='slategrey')\n",
    "AX[1].set_xscale('log')\n",
    "AX[1].set_xlabel('Fault-perpendicular distance (m)')\n",
    "AX[1].set_ylabel('Model residuals')\n",
    "AX[1].set_ylim(-0.5,0.5)\n",
    "\n",
    "plt.tight_layout()\n",
    "\n",
    "plt.savefig('General_model.pdf')\n",
    "plt.show()"
   ]
  },
  {
   "cell_type": "code",
   "execution_count": 12,
   "metadata": {},
   "outputs": [
    {
     "data": {
      "image/png": "[encoded data removed]",
      "text/plain": [
       "<Figure size 350x500 with 4 Axes>"
      ]
     },
     "metadata": {
      "needs_background": "light"
     },
     "output_type": "display_data"
    }
   ],
   "source": [
    "# uncertainty distributions\n",
    "fig, AX = plt.subplots(2,2,dpi=100,figsize=(3.5,5))\n",
    "\n",
    "hist_spec={\n",
    "    \"facecolor\":\"slategrey\",\n",
    "    \"bins\":25,\n",
    "    \"alpha\":0.5,\n",
    "}\n",
    "\n",
    "AX[0,0].hist(n_distribution,**hist_spec)\n",
    "AX[0,0].set_xlabel('n')\n",
    "AX[0,1].hist(vo_ensemble,**hist_spec)\n",
    "AX[0,0].set_yticks([])\n",
    "AX[0,1].set_xlabel('$v_{o}$')\n",
    "AX[0,1].set_yticks([])\n",
    "AX[1,1].hist(d_ensemble,**hist_spec)\n",
    "AX[1,1].set_xlabel('d')\n",
    "AX[1,1].set_yticks([])\n",
    "AX[1,0].hist(gamma_ensemble,**hist_spec)\n",
    "AX[1,0].set_xlabel('$\\gamma$')\n",
    "AX[1,0].set_yticks([])\n",
    "\n",
    "plt.tight_layout()\n",
    "plt.savefig('General_model_uncertainty_distribution.pdf')\n",
    "plt.show()"
   ]
  }
 ],
 "metadata": {
  "interpreter": {
   "hash": "aee8b7b246df8f9039afb4144a1f6fd8d2ca17a180786b69acc140d282b71a49"
  },
  "kernelspec": {
   "display_name": "Python 3.9.7 64-bit",
   "language": "python",
   "name": "python3"
  },
  "language_info": {
   "codemirror_mode": {
    "name": "ipython",
    "version": 3
   },
   "file_extension": ".py",
   "mimetype": "text/x-python",
   "name": "python",
   "nbconvert_exporter": "python",
   "pygments_lexer": "ipython3",
   "version": "3.9.7"
  },
  "orig_nbformat": 4
 },
 "nbformat": 4,
 "nbformat_minor": 2
}
